{
 "cells": [
  {
   "cell_type": "markdown",
   "metadata": {},
   "source": [
    "# TEST TECHNIQUE - DESCARTES UNDERWRITING\n",
    "\n",
    "\n",
    "Nina ACHACHE - 18 janvier 2021\n",
    "\n",
    "## Rappel du sujet\n",
    "\n",
    "L’objectif du projet est deconstruire un code structuré et fonctionnel en python. Ce code doit permettre de faire une prédiction sur le jeu de données AutoInsurance disponible sur https://www.kaggle.com/c/auto-insurance-fall-2017/data qui a pour cible TARGET_FLAG. \n",
    "\n",
    "Ce code devra donner explicitement la valeur de la performance des algorithmes employés  avec une métrique adaptée et produire un fichier au format csv avec les prédictions. \n",
    "\n",
    "La performance n’est pas l’élément le plus important. L’objectif du projet est de rédiger les étapes principales d’un projet de data-science en 2 heures de travail en soignant la mise en forme et les commentaires. Il faudra nous transmettre le code sous la forme de fichiers python ou ipythonnotebook utilisant les librairies adaptées par un lien vers un repo github.\n",
    "\n",
    "Organisation du travail réalisé :\n",
    "1. Récupération des données\n",
    "2. Prétraitements & analyse des données\n",
    "3. Prédiction de Target_FLAG\n",
    "4. Prédiction de Target_AMT\n",
    "5. Prédiction fichier test"
   ]
  },
  {
   "cell_type": "markdown",
   "metadata": {},
   "source": [
    "## Import de bibliothèque\n"
   ]
  },
  {
   "cell_type": "code",
   "execution_count": 1,
   "metadata": {
    "scrolled": true
   },
   "outputs": [],
   "source": [
    "# External import\n",
    "\n",
    "import pandas as pd\n",
    "import matplotlib.pyplot as plt\n",
    "import sklearn\n",
    "import sklearn.svm\n",
    "import sklearn.datasets\n",
    "from sklearn.model_selection import train_test_split\n",
    "from sklearn.metrics import recall_score\n",
    "import sklearn.ensemble as ens\n",
    "from sklearn.linear_model import LinearRegression\n"
   ]
  },
  {
   "cell_type": "markdown",
   "metadata": {},
   "source": [
    "## 1. Récupération des données\n"
   ]
  },
  {
   "cell_type": "markdown",
   "metadata": {},
   "source": [
    "Je récupère les données dans 2 dataframes :\n",
    "- le dataframe d'entrainement df_train\n",
    "- le dataframe de test df_test"
   ]
  },
  {
   "cell_type": "code",
   "execution_count": 2,
   "metadata": {},
   "outputs": [],
   "source": [
    "#input_path = './Test_Descartes_Underwriting/'\n",
    "\n",
    "# La première colonne des fichiers csv correspond à l'identifiant unique de la demande d'indémnisation.\n",
    "df_train = pd.read_csv('train_auto.csv', sep=',',index_col=0)  \n",
    "df_test = pd.read_csv(\"test_auto.csv\", sep=',',index_col=0)"
   ]
  },
  {
   "cell_type": "markdown",
   "metadata": {},
   "source": [
    "## 2. Prétraiement & analyse des données\n",
    "\n",
    "Le training set contient 8161 lignes (ie demandes d'indémnisation) et 25 colonnes.\n",
    "Les colonnes identifiant, Target_flag et Target_Amt ne sont pas des varaibles. \n",
    "\n",
    "On a donc 22 variables dont :\n",
    "\n",
    " - 4 variables continues exprimées en dollars : INCOME, HOME_VAL, BLUEBOOK, OLDCLAIM\n",
    " - 6 variables catégorielles à 2 catégories : PARENT1, MSTATUS, SEX, CAR_USE, RED_CAR, REVOKED, URBANICITY\n",
    " - 3 variables à plus de 2 catégories : JOB, EDUCATION, CAR_TYPE\n",
    " - 9 autres variables ne nécéssitant pas de prétraitement\n",
    " \n",
    "On réalise 3 prétraitements différents pour les 3 premiers types de variables. \n",
    "\n",
    "On supprime ensuite les lignes contenant des variables manquantes. \n",
    "\n",
    "**Pistes pour la gestion des variables manquantes :**\n",
    "- On remplace les données manquantes par les moyennes ou catégories majoritaires\n",
    "- On réalise des prédictions à partir des autres variables.\n",
    "\n",
    "**Fonction de prétraitement :**"
   ]
  },
  {
   "cell_type": "code",
   "execution_count": 3,
   "metadata": {},
   "outputs": [],
   "source": [
    "def pretraitement(input_df):\n",
    "    \n",
    "    # 2.1 Prétraitement des colonnes dont les valeurs sont en dollars\n",
    "    def function_dollars(x): # fonction permettant de transformer un string en dollars en un float.\n",
    "        if not pd.isna(x):\n",
    "            x=float(x[1:].replace(',','.'))\n",
    "        return(x)\n",
    "\n",
    "    L_dollars=['INCOME','HOME_VAL','BLUEBOOK','OLDCLAIM'] # Liste des colonnes dont les données sont des strings en dollars.\n",
    "    for c in L_dollars:\n",
    "        input_df[c] = input_df[c].apply(function_dollars)\n",
    "\n",
    "    # 2.2 Prétraitement variables catégorielles à 2 catégories\n",
    "\n",
    "    input_df.PARENT1=input_df.PARENT1.eq('Yes').mul(1)\n",
    "    input_df.MSTATUS=input_df.MSTATUS.eq('Yes').mul(1)\n",
    "    input_df.SEX=input_df.SEX.eq('z_F').mul(1)\n",
    "    input_df.CAR_USE=input_df.CAR_USE.eq('Private').mul(1)\n",
    "    input_df.RED_CAR=input_df.RED_CAR.eq('yes').mul(1)\n",
    "    input_df.REVOKED=input_df.REVOKED.eq('Yes').mul(1)\n",
    "    input_df.URBANICITY=input_df.URBANICITY.eq('Highly Urban/ Urban').mul(1)\n",
    "\n",
    "    # 2.3 Prétraitement variables catégorielles à plus de 2 catégories\n",
    "\n",
    "    # EDUCATION\n",
    "    L_education_type=['z_High School','<High School','Bachelors','Masters','PhD']\n",
    "    def function_education(x):\n",
    "        x = L_education_type.index(x)\n",
    "        return(x)\n",
    "    # JOB\n",
    "    L_job_type=['Professional','z_Blue Collar','Clerical', 'Doctor','Home Maker', 'Manager','Student','Lawyer']\n",
    "    def function_job(x):\n",
    "        if not pd.isna(x):\n",
    "            x = L_job_type.index(x)\n",
    "        return(x)\n",
    "    # CAR_TYPE\n",
    "    L_car_type=['Minivan','Van','z_SUV','Panel Truck','Pickup','Sports Car']\n",
    "    def function_car_type(x):\n",
    "        x = L_car_type.index(x)\n",
    "        return(x)\n",
    "\n",
    "    input_df['EDUCATION'] = input_df['EDUCATION'].apply(function_education)\n",
    "    input_df['JOB'] = input_df['JOB'].apply(function_job)\n",
    "    input_df['CAR_TYPE'] = input_df['CAR_TYPE'].apply(function_car_type)\n",
    "\n",
    "    return(input_df)"
   ]
  },
  {
   "cell_type": "markdown",
   "metadata": {},
   "source": [
    "**Analyse des distribution de Target_FLAG :**"
   ]
  },
  {
   "cell_type": "code",
   "execution_count": 4,
   "metadata": {},
   "outputs": [
    {
     "name": "stdout",
     "output_type": "stream",
     "text": [
      "Training set avant et après suppression des données manquantes :\n",
      "\n",
      "              rows  columns indémnisation demandée (% d'assurés)  \\\n",
      "avant dropna  8161       25                                26.3%   \n",
      "après dropna  6045       25                                26.5%   \n",
      "\n",
      "             indémnisation non demandée (% d'assurés)  \n",
      "avant dropna                                    73.6%  \n",
      "après dropna                                    73.4%  \n"
     ]
    },
    {
     "data": {
      "image/png": "[encoded data removed]",
      "text/plain": [
       "<Figure size 720x432 with 2 Axes>"
      ]
     },
     "metadata": {},
     "output_type": "display_data"
    }
   ],
   "source": [
    "input_df = df_train.copy()\n",
    "input_df = pretraitement(input_df)\n",
    "\n",
    "# Avant supression des données manquantes\n",
    "num_one = len(input_df[input_df.TARGET_FLAG == 1].index)  #nombre de demande d'indémnisation\n",
    "num_zero = len(input_df[input_df.TARGET_FLAG == 0].index) #nombre d'absence de demande d'indémnisation\n",
    "Y = [num_one/(num_one + num_zero), num_zero/(num_one + num_zero)] #liste des proportions\n",
    "\n",
    "# on crée un data frame rassemblant ces informations pour les afficher de manière simple\n",
    "df1=pd.DataFrame([[input_df.shape[0],input_df.shape[1],str(Y[0]*100)[:4]+\"%\",str(Y[1]*100)[:4]+\"%\"]], \n",
    "                 index = [\"avant dropna\"], \n",
    "                 columns=['rows','columns',\"indémnisation demandée (% d'assurés)\",\"indémnisation non demandée (% d'assurés)\"])\n",
    "\n",
    "# Après supression des données manquantes\n",
    "input_df=input_df.dropna() \n",
    "\n",
    "num_one_bis = len(input_df[input_df.TARGET_FLAG == 1].index) \n",
    "num_zero_bis = len(input_df[input_df.TARGET_FLAG == 0].index)\n",
    "Y_bis = [num_one_bis/(num_one_bis + num_zero_bis), num_zero_bis/(num_one_bis + num_zero_bis)]\n",
    "\n",
    "df2=pd.DataFrame([[input_df.shape[0],input_df.shape[1],str(Y_bis[0]*100)[:4]+\"%\",str(Y_bis[1]*100)[:4]+\"%\"]], \n",
    "                 index = [\"après dropna\"], \n",
    "                 columns=['rows','columns',\"indémnisation demandée (% d'assurés)\",\"indémnisation non demandée (% d'assurés)\"])\n",
    "\n",
    "# Bilan des informations\n",
    "df=df1.append(df2) #tableau résumé\n",
    "\n",
    "print(\"Training set avant et après suppression des données manquantes :\")\n",
    "print('')\n",
    "print(df)\n",
    "\n",
    "# Affichage sous forme de graph\n",
    "fig, axs = plt.subplots(1,2,figsize=(10, 6))\n",
    "labels = \"Demande d'indémnisation\", \"Pas de demande\"\n",
    "\n",
    "# Figure avant suppression des varaibles manquantes\n",
    "axs[0].pie(Y, autopct='%1.1f%%',shadow=True, startangle=90)\n",
    "axs[0].axis('equal')  # Pour que la figure soit bien un cercle.\n",
    "axs[0].set_title('Avant suppression des données manquantes',loc='left')\n",
    "\n",
    "# Figures après suppression des variables manquantes \n",
    "axs[1].pie(Y_bis, autopct='%1.1f%%', shadow=True, startangle=90)     \n",
    "axs[1].axis('equal')  # Pour que la figure soit bien un cercle.\n",
    "axs[1].set_title('Après suppression des données manquantes',loc='right')\n",
    "\n",
    "# Affichage\n",
    "axs[0].legend(labels)\n",
    "fig.suptitle('Distribution des demandes du training set')\n",
    "plt.show()"
   ]
  },
  {
   "cell_type": "markdown",
   "metadata": {},
   "source": [
    "Les distributions de demandes d'indémnisation sont quasi identiques avant et après suppression des données manquantes. On peut donc penser que la suppression des données manquantes ne biaisera pas trop la prédiction.\n",
    "\n",
    "Si on utilise un modèle naïf prédisant que la demande d'indémnisation n'est jamais faite, alors on aura environ 26% d'erreur. Cela donne un premier élèment de comparaison pour notre modèle.  \n"
   ]
  },
  {
   "cell_type": "markdown",
   "metadata": {},
   "source": [
    "## 3. Modèle de prédiction de TARGET_FLAG\n",
    "\n",
    "**Rappel du sujet :**\n",
    "\n",
    "On souhaite faire une prédiction sur l'indéminisation d'un véhicule.\n",
    "\n",
    "Dans un premier temps, on doit faire une prédiction sur **TARGET_FLAG**, variable \n",
    "correspondant à la demande d'indéminisation (0 pas de demande, 1 demande). \n",
    "On est dans le cadre d'un problème de prédiction supervisée, bi-classe.\n",
    "\n",
    "Par la suite, on doit faire une prédiction sur la valeur d'indémnisation, contenue dans **TARGET_AMT**.\n",
    "On est dans un problème regression sur les valeurs de TARGET_AMT pour les cas \n",
    "où la variable TARGET_FLAG vaut 1 (indémnisation demandée).\n",
    "\n",
    "On essaie de réaliser une prédiction en travaillant avec 2 modèles : \n",
    "- Une randomn forest \n",
    "- Une SVC"
   ]
  },
  {
   "cell_type": "code",
   "execution_count": 5,
   "metadata": {},
   "outputs": [
    {
     "data": {
      "text/plain": [
       "SVC(C=50, break_ties=False, cache_size=200, class_weight=None, coef0=0.0,\n",
       "    decision_function_shape='ovr', degree=3, gamma='scale', kernel='rbf',\n",
       "    max_iter=-1, probability=False, random_state=None, shrinking=True,\n",
       "    tol=0.001, verbose=False)"
      ]
     },
     "execution_count": 5,
     "metadata": {},
     "output_type": "execute_result"
    }
   ],
   "source": [
    "input_df = df_train.copy()\n",
    "input_df = pretraitement(input_df)\n",
    "input_df=input_df.dropna() \n",
    "\n",
    "# 3.1  Définition des training et test set\n",
    "output_df_flag=input_df.loc[:,'TARGET_FLAG'] #Dataframe contenant les valeurs à prédire.\n",
    "input_df_flag = input_df.drop(labels=['TARGET_FLAG','TARGET_AMT'], axis=1) #Dataframe contenant les variables.\n",
    "\n",
    "\"\"\"Pour déterminer les performances de nos modèles de prédiction on divise le training set \n",
    "en train_set (avec 75% des données) et test_set (contenant les 25% restant)\"\"\"\n",
    "train_feat, test_feat, train_y, test_y = train_test_split(input_df_flag, output_df_flag, test_size=0.25, random_state=111)\n",
    "\n",
    "# 3.2 Classifiers\n",
    "# Random Forest\n",
    "clf_forest_flag = ens.RandomForestClassifier(max_depth=5, random_state=0)\n",
    "clf_forest_flag.fit(train_feat,train_y)\n",
    "\n",
    "# SVC\n",
    "clf_SVC_flag = sklearn.svm.SVC(C=50,decision_function_shape='ovr')#On choisit 50 slack variables pour ne pas en avoir trop par rapport au 1602 cas d'indemnisation.\n",
    "clf_SVC_flag.fit(train_feat,train_y)"
   ]
  },
  {
   "cell_type": "code",
   "execution_count": 6,
   "metadata": {},
   "outputs": [
    {
     "data": {
      "image/png": "[encoded data removed]",
      "text/plain": [
       "<Figure size 432x288 with 1 Axes>"
      ]
     },
     "metadata": {
      "needs_background": "light"
     },
     "output_type": "display_data"
    },
    {
     "name": "stdout",
     "output_type": "stream",
     "text": [
      "Performance de la random forest\n",
      "Mean Accuracy :  test set : 0.759 , training set :0.778\n",
      "Recall : 0.193\n",
      "\n",
      "Performance de la SVC\n",
      "Mean Accuracy :  test set : 0.751 , training set :0.763\n",
      "Recall : 0.161\n"
     ]
    }
   ],
   "source": [
    "# 3.3 Résultats et Analyse \n",
    "\n",
    "#Importance des features\n",
    "importance =clf_forest_flag.feature_importances_\n",
    "\n",
    "plt.bar(input_df_flag.columns, importance)\n",
    "plt.xticks(rotation=90)\n",
    "plt.title(\"Mesure de l'importance des features dans la random forest\")\n",
    "plt.xlabel(\"Features\")\n",
    "plt.ylabel(\"Coefficient d'importance dans la random forest[0,1]\")\n",
    "plt.show()\n",
    "\n",
    "# Résultats Random F\n",
    "Res_test= clf_forest_flag.score(test_feat, test_y) # Score = accuracy \n",
    "Res_train= clf_forest_flag.score(train_feat, train_y)\n",
    "R=recall_score(train_y,clf_forest_flag.predict(train_feat),pos_label=1,average='binary') # Recall\n",
    "print(\"Performance de la random forest\")\n",
    "print(\"Mean Accuracy : \", \"test set : \" +str(Res_test)[:5], \", training set :\" +str(Res_train)[:5])\n",
    "print(\"Recall : \"+str(R)[:5])\n",
    "print()\n",
    "\n",
    "# Résultats SVC\n",
    "Res_test= clf_SVC_flag.score(test_feat, test_y)\n",
    "Res_train= clf_SVC_flag.score(train_feat, train_y)\n",
    "R=recall_score(train_y,clf_SVC_flag.predict(train_feat),pos_label=1,average='binary')\n",
    "print(\"Performance de la SVC\")\n",
    "print(\"Mean Accuracy : \", \"test set : \" +str(Res_test)[:5], \", training set :\" +str(Res_train)[:5])\n",
    "print(\"Recall : \"+str(R)[:5])"
   ]
  },
  {
   "cell_type": "markdown",
   "metadata": {},
   "source": [
    "**Analyse des résultats :** \n",
    "\n",
    "- Importances des Features :\n",
    "    Dans notre étude, on a 22 variables. On peut donc s'interroger sur l'importance de ces variables dans la prédiction. Le Random forest nous permet d'avoir plus d'information à ce sujet.\n",
    "- Les performances de la random forest sont meilleures que celles de la SVC. En revanche par rapport à une approche naïve (évoquée plus haut), ce n'est pas satisfaisant. \n",
    "\n",
    "- Pour cette prédiction, j'ai utilisé la métrique du Recall pour analyser les performances. On constate que le Recall est proche de zéro au lieu de 1, ce qui signifie que l'on rate beaucoup de demandes d'indémnisation. Les performances sont à retravailler."
   ]
  },
  {
   "cell_type": "markdown",
   "metadata": {},
   "source": [
    "## 4. Modèle de prédiction de TARGET_AMT"
   ]
  },
  {
   "cell_type": "code",
   "execution_count": 7,
   "metadata": {},
   "outputs": [
    {
     "name": "stdout",
     "output_type": "stream",
     "text": [
      "On travaille ici avec un data set contenant : 1602 lignes.\n"
     ]
    },
    {
     "data": {
      "image/png": "[encoded data removed]",
      "text/plain": [
       "<Figure size 432x288 with 1 Axes>"
      ]
     },
     "metadata": {
      "needs_background": "light"
     },
     "output_type": "display_data"
    }
   ],
   "source": [
    "# 4.1  Définition des training et test set\n",
    "# On séléctionne uniquement les lignes correspondant à des demandes d'indémnisation (ie TARGET_FLAG=1).\n",
    "index_names = input_df[input_df['TARGET_FLAG'] == 0].index \n",
    "input_df=input_df.drop(index_names) \n",
    "\n",
    "print(\"On travaille ici avec un data set contenant : \" + str(input_df.shape[0]) + \" lignes.\")\n",
    "\n",
    "output_df_amt = input_df.loc[:,'TARGET_AMT'] #Dataframe de ce que l'on souhaite prédire.\n",
    "input_df_amt = input_df.drop(labels=['TARGET_FLAG','TARGET_AMT'], axis=1) #Dataframe contenant les variables du problème.\n",
    "\n",
    "# On redéfinit un training et test set.\n",
    "train_feat_amt, test_feat_amt, train_y_amt, test_y_amt = train_test_split(input_df_amt, output_df_amt, test_size=0.25, random_state=111)\n",
    "\n",
    "# 4.2 Modèle de prédiction\n",
    "# Random Forest\n",
    "clf_forest_amt = ens.RandomForestRegressor(n_estimators=100,max_depth=3, random_state=0)\n",
    "clf_forest_amt.fit(train_feat_amt,train_y_amt)\n",
    "\n",
    "# SVR\n",
    "svr= sklearn.svm.SVR(C=10, epsilon=100) \n",
    "svr.fit(train_feat_amt,train_y_amt)\n",
    "\n",
    "# OLS\n",
    "lr = LinearRegression()\n",
    "lr.fit(train_feat_amt,train_y_amt)\n",
    "\n",
    "#Importance des features\n",
    "importance_amt = clf_forest_amt.feature_importances_\n",
    "plt.bar(input_df_amt.columns, importance_amt)\n",
    "plt.xticks(rotation=90)\n",
    "plt.title(\"Mesure de l'importance des features dans la random forest\")\n",
    "plt.xlabel(\"Features\")\n",
    "plt.ylabel(\"Coefficient d'importance dans la random forest[0,1]\")\n",
    "plt.show()\n"
   ]
  },
  {
   "cell_type": "markdown",
   "metadata": {},
   "source": [
    "**Évaluation des modèle de prédiction :**"
   ]
  },
  {
   "cell_type": "code",
   "execution_count": 8,
   "metadata": {},
   "outputs": [
    {
     "name": "stdout",
     "output_type": "stream",
     "text": [
      "Erreur médiane - Random forest : training set 1301.2  , test set  1250.3.\n",
      "Erreur médiane - SVR : training set 23.972  , test set  -198.4.\n",
      "Erreur médiane - Regression linéaire OLS : training set 1416.9  , test set  1476.0.\n"
     ]
    }
   ],
   "source": [
    "#4.3 Analyse des performances\n",
    "# Random Forest\n",
    "Res_test_amt = clf_forest_amt.score(test_feat_amt, test_y_amt)\n",
    "Res_train_amt = clf_forest_amt.score(train_feat_amt, train_y_amt)\n",
    "prediction=clf_forest_amt.predict(test_feat_amt)\n",
    "prediction2=clf_forest_amt.predict(train_feat_amt)\n",
    "erreur_train=prediction2 - train_y_amt\n",
    "erreur_test=prediction - test_y_amt\n",
    "print(\"Erreur médiane - Random forest : training set\",str(erreur_train.median())[:6],\" , test set \",str(erreur_test.median())[:6]+\".\")\n",
    "\n",
    "# SVR\n",
    "prediction=svr.predict(test_feat_amt)\n",
    "prediction2=svr.predict(train_feat_amt)\n",
    "erreur_train=prediction2 - train_y_amt\n",
    "erreur_test=prediction - test_y_amt\n",
    "print(\"Erreur médiane - SVR : training set\",str(erreur_train.median())[:6],\" , test set \",str(erreur_test.median())[:6] +\".\")\n",
    "# OLS\n",
    "prediction=lr.predict(test_feat_amt)\n",
    "prediction2=lr.predict(train_feat_amt)\n",
    "erreur_train=prediction2 - train_y_amt\n",
    "erreur_test=prediction - test_y_amt\n",
    "print(\"Erreur médiane - Regression linéaire OLS : training set\",str(erreur_train.median())[:6],\" , test set \",str(erreur_test.median())[:6]+\".\")\n"
   ]
  },
  {
   "cell_type": "markdown",
   "metadata": {},
   "source": [
    "L'erreur médiane de prédiction de la SVR est moins importante que celles de Regression et Random forest. En revanche l'écart entre les erreurs de training et test set laisse penser que la SVR overfit sur les données. Il faudrait retravailler les paramètres de la SVR."
   ]
  },
  {
   "cell_type": "markdown",
   "metadata": {},
   "source": [
    "## 5. Prédiction du fichier test.csv\n",
    "\n",
    "On utilise la random forest pour déterminer TARGET_FLAG puis la SVM pour déterminer le montant d'indémnisation.\n",
    "Pour ne pas risquer d'overfitter le training set, on travaille avec les modèles entrainés précedement. On avait au préalable vérifier qu'ils n'overfittaient en comparant les scores sur le training set et le test set (très proches)."
   ]
  },
  {
   "cell_type": "code",
   "execution_count": 9,
   "metadata": {},
   "outputs": [
    {
     "name": "stdout",
     "output_type": "stream",
     "text": [
      "Il y a 1612 demandes sans données manquantes.\n",
      "Parmis les 1612 lignes, il y a 91 demandes d'indémnisation.\n"
     ]
    }
   ],
   "source": [
    "test_input = pretraitement(df_test)\n",
    "\n",
    "# Définition des set contenant les features et les variables \n",
    "test_input_flag = test_input.drop(labels=['TARGET_FLAG','TARGET_AMT'], axis=1)\n",
    "\n",
    "test_input_flag=test_input_flag.dropna()\n",
    "print(\"Il y a \"+ str(test_input_flag.shape[0])+\" demandes sans données manquantes.\")\n",
    "\n",
    "# Prédiction de TARGET_FLAG\n",
    "test_output_flag = clf_forest_flag.predict(test_input_flag)\n",
    "\n",
    "# Construction du dataset pour la prédiction de TARGET_AMT\n",
    "test_input_flag['TARGET_FLAG']=test_output_flag.tolist()\n",
    "test_input_amt=test_input_flag.copy()\n",
    "index_names = test_input_amt[test_input_amt['TARGET_FLAG'] == 0].index \n",
    "test_input_amt=test_input_amt.drop(index_names) \n",
    "test_input_amt = test_input_amt.drop(labels=['TARGET_FLAG'], axis=1)\n",
    "\n",
    "print(\"Parmis les \"+str(test_input_flag.shape[0])+\" lignes, il y a \" + str(test_input_amt.shape[0]) + \" demandes d'indémnisation.\")\n",
    "\n",
    "# Prédiction de TARGET_AMT\n",
    "\n",
    "test_output_amt=svr.predict(test_input_amt)\n",
    "test_output_amt=pd.DataFrame(test_output_amt, index=test_input_amt.index, columns=[\"p_target\"])\n",
    "test_output_amt.to_csv(\"Predictions_AUTO.csv\", sep=',')"
   ]
  },
  {
   "cell_type": "markdown",
   "metadata": {},
   "source": [
    "Il y a probablement des problèmes de performances au vu du faible nombre de demandes d'indémnisation dans le test set et au vu des scores de recall du modèle de prédiction de TARGET_FLAG.\n",
    "\n",
    "## Merci pour votre lecture"
   ]
  }
 ],
 "metadata": {
  "kernelspec": {
   "display_name": "Python 3",
   "language": "python",
   "name": "python3"
  },
  "language_info": {
   "codemirror_mode": {
    "name": "ipython",
    "version": 3
   },
   "file_extension": ".py",
   "mimetype": "text/x-python",
   "name": "python",
   "nbconvert_exporter": "python",
   "pygments_lexer": "ipython3",
   "version": "3.7.6"
  }
 },
 "nbformat": 4,
 "nbformat_minor": 4
}
